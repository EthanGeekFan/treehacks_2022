{
 "cells": [
  {
   "cell_type": "code",
   "execution_count": 2,
   "metadata": {},
   "outputs": [],
   "source": [
    "# To support both python 2 and python 3\n",
    "from __future__ import division, print_function, unicode_literals\n",
    "\n",
    "# Common imports\n",
    "import numpy as np\n",
    "import seaborn as sns\n",
    "import os\n",
    "import pandas as pd\n",
    "from joblib import dump, load\n",
    "# to make this notebook's output stable across runs\n",
    "np.random.seed(42)\n",
    "\n",
    "# To plot pretty figures\n",
    "%matplotlib inline\n",
    "import matplotlib as mpl\n",
    "import matplotlib.pyplot as plt\n",
    "mpl.rc('axes', labelsize=14)\n",
    "mpl.rc('xtick', labelsize=12)\n",
    "mpl.rc('ytick', labelsize=12)\n",
    "\n",
    "\n",
    "# Ignore useless warnings (see SciPy issue #5998)\n",
    "import warnings\n",
    "warnings.filterwarnings('ignore')"
   ]
  },
  {
   "cell_type": "markdown",
   "metadata": {},
   "source": [
    "## Data Pre-Processing and EDA"
   ]
  },
  {
   "cell_type": "code",
   "execution_count": 9,
   "metadata": {},
   "outputs": [],
   "source": [
    "data_set_init = pd.read_csv(\"Speed_Dating_Data.csv\", encoding=\"ISO-8859-1\")"
   ]
  },
  {
   "cell_type": "code",
   "execution_count": 10,
   "metadata": {},
   "outputs": [
    {
     "data": {
      "text/html": [
       "<div>\n",
       "<style scoped>\n",
       "    .dataframe tbody tr th:only-of-type {\n",
       "        vertical-align: middle;\n",
       "    }\n",
       "\n",
       "    .dataframe tbody tr th {\n",
       "        vertical-align: top;\n",
       "    }\n",
       "\n",
       "    .dataframe thead th {\n",
       "        text-align: right;\n",
       "    }\n",
       "</style>\n",
       "<table border=\"1\" class=\"dataframe\">\n",
       "  <thead>\n",
       "    <tr style=\"text-align: right;\">\n",
       "      <th></th>\n",
       "      <th>iid</th>\n",
       "      <th>id</th>\n",
       "      <th>gender</th>\n",
       "      <th>idg</th>\n",
       "      <th>condtn</th>\n",
       "      <th>wave</th>\n",
       "      <th>round</th>\n",
       "      <th>position</th>\n",
       "      <th>positin1</th>\n",
       "      <th>order</th>\n",
       "      <th>...</th>\n",
       "      <th>attr3_3</th>\n",
       "      <th>sinc3_3</th>\n",
       "      <th>intel3_3</th>\n",
       "      <th>fun3_3</th>\n",
       "      <th>amb3_3</th>\n",
       "      <th>attr5_3</th>\n",
       "      <th>sinc5_3</th>\n",
       "      <th>intel5_3</th>\n",
       "      <th>fun5_3</th>\n",
       "      <th>amb5_3</th>\n",
       "    </tr>\n",
       "  </thead>\n",
       "  <tbody>\n",
       "    <tr>\n",
       "      <th>0</th>\n",
       "      <td>1</td>\n",
       "      <td>1.0</td>\n",
       "      <td>0</td>\n",
       "      <td>1</td>\n",
       "      <td>1</td>\n",
       "      <td>1</td>\n",
       "      <td>10</td>\n",
       "      <td>7</td>\n",
       "      <td>NaN</td>\n",
       "      <td>4</td>\n",
       "      <td>...</td>\n",
       "      <td>5.0</td>\n",
       "      <td>7.0</td>\n",
       "      <td>7.0</td>\n",
       "      <td>7.0</td>\n",
       "      <td>7.0</td>\n",
       "      <td>NaN</td>\n",
       "      <td>NaN</td>\n",
       "      <td>NaN</td>\n",
       "      <td>NaN</td>\n",
       "      <td>NaN</td>\n",
       "    </tr>\n",
       "    <tr>\n",
       "      <th>1</th>\n",
       "      <td>1</td>\n",
       "      <td>1.0</td>\n",
       "      <td>0</td>\n",
       "      <td>1</td>\n",
       "      <td>1</td>\n",
       "      <td>1</td>\n",
       "      <td>10</td>\n",
       "      <td>7</td>\n",
       "      <td>NaN</td>\n",
       "      <td>3</td>\n",
       "      <td>...</td>\n",
       "      <td>5.0</td>\n",
       "      <td>7.0</td>\n",
       "      <td>7.0</td>\n",
       "      <td>7.0</td>\n",
       "      <td>7.0</td>\n",
       "      <td>NaN</td>\n",
       "      <td>NaN</td>\n",
       "      <td>NaN</td>\n",
       "      <td>NaN</td>\n",
       "      <td>NaN</td>\n",
       "    </tr>\n",
       "    <tr>\n",
       "      <th>2</th>\n",
       "      <td>1</td>\n",
       "      <td>1.0</td>\n",
       "      <td>0</td>\n",
       "      <td>1</td>\n",
       "      <td>1</td>\n",
       "      <td>1</td>\n",
       "      <td>10</td>\n",
       "      <td>7</td>\n",
       "      <td>NaN</td>\n",
       "      <td>10</td>\n",
       "      <td>...</td>\n",
       "      <td>5.0</td>\n",
       "      <td>7.0</td>\n",
       "      <td>7.0</td>\n",
       "      <td>7.0</td>\n",
       "      <td>7.0</td>\n",
       "      <td>NaN</td>\n",
       "      <td>NaN</td>\n",
       "      <td>NaN</td>\n",
       "      <td>NaN</td>\n",
       "      <td>NaN</td>\n",
       "    </tr>\n",
       "    <tr>\n",
       "      <th>3</th>\n",
       "      <td>1</td>\n",
       "      <td>1.0</td>\n",
       "      <td>0</td>\n",
       "      <td>1</td>\n",
       "      <td>1</td>\n",
       "      <td>1</td>\n",
       "      <td>10</td>\n",
       "      <td>7</td>\n",
       "      <td>NaN</td>\n",
       "      <td>5</td>\n",
       "      <td>...</td>\n",
       "      <td>5.0</td>\n",
       "      <td>7.0</td>\n",
       "      <td>7.0</td>\n",
       "      <td>7.0</td>\n",
       "      <td>7.0</td>\n",
       "      <td>NaN</td>\n",
       "      <td>NaN</td>\n",
       "      <td>NaN</td>\n",
       "      <td>NaN</td>\n",
       "      <td>NaN</td>\n",
       "    </tr>\n",
       "    <tr>\n",
       "      <th>4</th>\n",
       "      <td>1</td>\n",
       "      <td>1.0</td>\n",
       "      <td>0</td>\n",
       "      <td>1</td>\n",
       "      <td>1</td>\n",
       "      <td>1</td>\n",
       "      <td>10</td>\n",
       "      <td>7</td>\n",
       "      <td>NaN</td>\n",
       "      <td>7</td>\n",
       "      <td>...</td>\n",
       "      <td>5.0</td>\n",
       "      <td>7.0</td>\n",
       "      <td>7.0</td>\n",
       "      <td>7.0</td>\n",
       "      <td>7.0</td>\n",
       "      <td>NaN</td>\n",
       "      <td>NaN</td>\n",
       "      <td>NaN</td>\n",
       "      <td>NaN</td>\n",
       "      <td>NaN</td>\n",
       "    </tr>\n",
       "  </tbody>\n",
       "</table>\n",
       "<p>5 rows × 195 columns</p>\n",
       "</div>"
      ],
      "text/plain": [
       "   iid   id  gender  idg  condtn  wave  round  position  positin1  order  ...  \\\n",
       "0    1  1.0       0    1       1     1     10         7       NaN      4  ...   \n",
       "1    1  1.0       0    1       1     1     10         7       NaN      3  ...   \n",
       "2    1  1.0       0    1       1     1     10         7       NaN     10  ...   \n",
       "3    1  1.0       0    1       1     1     10         7       NaN      5  ...   \n",
       "4    1  1.0       0    1       1     1     10         7       NaN      7  ...   \n",
       "\n",
       "   attr3_3  sinc3_3  intel3_3  fun3_3  amb3_3  attr5_3  sinc5_3  intel5_3  \\\n",
       "0      5.0      7.0       7.0     7.0     7.0      NaN      NaN       NaN   \n",
       "1      5.0      7.0       7.0     7.0     7.0      NaN      NaN       NaN   \n",
       "2      5.0      7.0       7.0     7.0     7.0      NaN      NaN       NaN   \n",
       "3      5.0      7.0       7.0     7.0     7.0      NaN      NaN       NaN   \n",
       "4      5.0      7.0       7.0     7.0     7.0      NaN      NaN       NaN   \n",
       "\n",
       "   fun5_3  amb5_3  \n",
       "0     NaN     NaN  \n",
       "1     NaN     NaN  \n",
       "2     NaN     NaN  \n",
       "3     NaN     NaN  \n",
       "4     NaN     NaN  \n",
       "\n",
       "[5 rows x 195 columns]"
      ]
     },
     "execution_count": 10,
     "metadata": {},
     "output_type": "execute_result"
    }
   ],
   "source": [
    "data_set_init.head()"
   ]
  },
  {
   "cell_type": "code",
   "execution_count": 11,
   "metadata": {},
   "outputs": [
    {
     "data": {
      "text/plain": [
       "(8378, 195)"
      ]
     },
     "execution_count": 11,
     "metadata": {},
     "output_type": "execute_result"
    }
   ],
   "source": [
    "data_set_init.shape"
   ]
  },
  {
   "cell_type": "code",
   "execution_count": 12,
   "metadata": {},
   "outputs": [
    {
     "name": "stdout",
     "output_type": "stream",
     "text": [
      "<class 'pandas.core.frame.DataFrame'>\n",
      "RangeIndex: 8378 entries, 0 to 8377\n",
      "Columns: 195 entries, iid to amb5_3\n",
      "dtypes: float64(174), int64(13), object(8)\n",
      "memory usage: 12.5+ MB\n"
     ]
    }
   ],
   "source": [
    "data_set_init.info()"
   ]
  },
  {
   "cell_type": "code",
   "execution_count": 15,
   "metadata": {},
   "outputs": [],
   "source": [
    "data_set_select = data_set_init[[\"iid\", \"pid\", \"gender\", \"sports\", \"tvsports\", \"exercise\", \"dining\", \"museums\", \"art\", \"hiking\", \"gaming\", \"clubbing\", \"reading\", \"tv\", \"theater\", \"movies\", \"concerts\", \"music\", \"shopping\", \"yoga\", \"attr3_1\", \"sinc3_1\", \"intel3_1\", \"fun3_1\", \"amb3_1\", \"attr1_1\", \"sinc1_1\", \"intel1_1\", \"fun1_1\", \"amb1_1\", \"shar1_1\", \"match\"]]"
   ]
  },
  {
   "cell_type": "code",
   "execution_count": 35,
   "metadata": {},
   "outputs": [
    {
     "data": {
      "image/png": "[encoded data removed]",
      "text/plain": [
       "<Figure size 950.375x900 with 30 Axes>"
      ]
     },
     "metadata": {
      "needs_background": "light"
     },
     "output_type": "display_data"
    }
   ],
   "source": [
    "temp = pd.concat([data_set_select.iloc[:, 2], data_set_select.iloc[:, 3:8]], axis = 1)\n",
    "g = sns.pairplot(temp, hue=\"gender\")"
   ]
  },
  {
   "cell_type": "code",
   "execution_count": null,
   "metadata": {},
   "outputs": [],
   "source": [
    "temp = pd.concat([data_set_select.iloc[:, 2], data_set_select.iloc[:, 9:9]], axis = 1)\n",
    "g = sns.pairplot(temp, hue=\"gender\")"
   ]
  },
  {
   "cell_type": "code",
   "execution_count": 27,
   "metadata": {},
   "outputs": [
    {
     "data": {
      "image/png": "[encoded data removed]",
      "text/plain": [
       "<Figure size 864x720 with 2 Axes>"
      ]
     },
     "metadata": {
      "needs_background": "light"
     },
     "output_type": "display_data"
    }
   ],
   "source": [
    "plt.figure(figsize=(12,10))\n",
    "cor = data_set_select.corr()\n",
    "sns.heatmap(cor.iloc[2:,2:], annot=False, cmap=plt.cm.Blues)\n",
    "plt.show()"
   ]
  },
  {
   "cell_type": "code",
   "execution_count": 36,
   "metadata": {},
   "outputs": [],
   "source": [
    "data_set_select = data_set_select.dropna(axis=0)"
   ]
  },
  {
   "cell_type": "code",
   "execution_count": 37,
   "metadata": {},
   "outputs": [
    {
     "data": {
      "text/plain": [
       "(8223, 32)"
      ]
     },
     "execution_count": 37,
     "metadata": {},
     "output_type": "execute_result"
    }
   ],
   "source": [
    "data_set_select.shape"
   ]
  },
  {
   "cell_type": "code",
   "execution_count": 38,
   "metadata": {},
   "outputs": [],
   "source": [
    "df_man = pd.DataFrame()\n",
    "df_woman = pd.DataFrame()"
   ]
  },
  {
   "cell_type": "code",
   "execution_count": 39,
   "metadata": {},
   "outputs": [],
   "source": [
    "for i in range(len(data_set_select.index)):\n",
    "    self = data_set_select.iloc[[i]]\n",
    "    if int(self[\"gender\"]) == 1:\n",
    "        match = data_set_select[data_set_select[\"iid\"] == int(self[\"pid\"])]\n",
    "        match = match[match[\"pid\"] == int(self[\"iid\"])]\n",
    "        if len(match.index) != 0:\n",
    "            other = match.iloc[[0]]\n",
    "            df_man = df_man.append(self, ignore_index = True)\n",
    "            df_woman = df_woman.append(other, ignore_index = True)"
   ]
  },
  {
   "cell_type": "code",
   "execution_count": 40,
   "metadata": {},
   "outputs": [],
   "source": [
    "df_y = df_man[\"match\"]"
   ]
  },
  {
   "cell_type": "code",
   "execution_count": 41,
   "metadata": {},
   "outputs": [
    {
     "data": {
      "text/plain": [
       "0       0\n",
       "1       0\n",
       "2       0\n",
       "3       0\n",
       "4       0\n",
       "       ..\n",
       "4034    0\n",
       "4035    0\n",
       "4036    0\n",
       "4037    0\n",
       "4038    0\n",
       "Name: match, Length: 4039, dtype: int64"
      ]
     },
     "execution_count": 41,
     "metadata": {},
     "output_type": "execute_result"
    }
   ],
   "source": [
    "df_y"
   ]
  },
  {
   "cell_type": "code",
   "execution_count": 42,
   "metadata": {},
   "outputs": [],
   "source": [
    "df_man = df_man.drop([\"iid\", \"pid\", \"gender\", \"match\"], axis=1)"
   ]
  },
  {
   "cell_type": "code",
   "execution_count": 43,
   "metadata": {},
   "outputs": [],
   "source": [
    "df_woman = df_woman.drop([\"iid\", \"pid\", \"gender\", \"match\"], axis=1)"
   ]
  },
  {
   "cell_type": "code",
   "execution_count": 45,
   "metadata": {},
   "outputs": [],
   "source": [
    "df_combined = pd.concat([df_man, df_woman], axis = 1, ignore_index=True)"
   ]
  },
  {
   "cell_type": "code",
   "execution_count": 46,
   "metadata": {},
   "outputs": [],
   "source": [
    "df_combined.columns = [\"sports_man\", \"tvsports_man\", \"exercise_man\", \"dining_man\", \"museums_man\", \"art_man\", \"hiking_man\", \"gaming_man\", \"clubbing_man\", \"reading_man\", \"tv_man\", \"theater_man\", \"movies_man\", \"concerts_man\", \"music_man\", \"shopping_man\", \"yoga_man\", \"attr3_1_man\", \"sinc3_1_man\", \"intel3_1_man\", \"fun3_1_man\", \"amb3_1_man\", \"attr1_1_man\", \"sinc1_1_man\", \"intel1_1_man\", \"fun1_1_man\", \"amb1_1_man\", \"shar1_1_man\", \"sports_woman\", \"tvsports_woman\", \"exercise_woman\", \"dining_woman\", \"museums_woman\", \"art_woman\", \"hiking_woman\", \"gaming_woman\", \"clubbing_woman\", \"reading_woman\", \"tv_woman\", \"theater_woman\", \"movies_woman\", \"concerts_woman\", \"music_woman\", \"shopping_woman\", \"yoga_woman\", \"attr3_1_woman\", \"sinc3_1_woman\", \"intel3_1_woman\", \"fun3_1_woman\", \"amb3_1_woman\", \"attr1_1_woman\", \"sinc1_1_woman\", \"intel1_1_woman\", \"fun1_1_woman\", \"amb1_1_woman\", \"shar1_1_woman\"]"
   ]
  },
  {
   "cell_type": "code",
   "execution_count": 47,
   "metadata": {},
   "outputs": [],
   "source": [
    "df_x = df_combined"
   ]
  },
  {
   "cell_type": "code",
   "execution_count": 48,
   "metadata": {},
   "outputs": [],
   "source": [
    "df_combined = pd.concat([df_combined, df_y], axis = 1)"
   ]
  },
  {
   "cell_type": "markdown",
   "metadata": {},
   "source": [
    "## Visualize Data"
   ]
  },
  {
   "cell_type": "code",
   "execution_count": 49,
   "metadata": {},
   "outputs": [
    {
     "data": {
      "image/png": "[encoded data removed]",
      "text/plain": [
       "<Figure size 864x720 with 2 Axes>"
      ]
     },
     "metadata": {
      "needs_background": "light"
     },
     "output_type": "display_data"
    }
   ],
   "source": [
    "#Using Pearson Correlation\n",
    "plt.figure(figsize=(12,10))\n",
    "cor = df_combined.corr()\n",
    "sns.heatmap(cor, annot=False, cmap=plt.cm.Reds)\n",
    "plt.show()"
   ]
  },
  {
   "cell_type": "markdown",
   "metadata": {},
   "source": [
    "## Data Processing"
   ]
  },
  {
   "cell_type": "code",
   "execution_count": 27,
   "metadata": {},
   "outputs": [],
   "source": [
    "df_x.to_csv('df_x.csv')"
   ]
  },
  {
   "cell_type": "code",
   "execution_count": 28,
   "metadata": {},
   "outputs": [],
   "source": [
    "df_y.to_csv('df_y.csv')"
   ]
  },
  {
   "cell_type": "markdown",
   "metadata": {},
   "source": [
    "### SMOTE (Done on Kaggle instead)"
   ]
  },
  {
   "cell_type": "code",
   "execution_count": 33,
   "metadata": {},
   "outputs": [],
   "source": [
    "import sys\n",
    "import sklearn.neighbors._base\n",
    "sys.modules['sklearn.neighbors.base'] = sklearn.neighbors._base"
   ]
  },
  {
   "cell_type": "code",
   "execution_count": 34,
   "metadata": {},
   "outputs": [],
   "source": [
    "try:\n",
    "    # See #1137: this allows compatibility for scikit-learn >= 0.24\n",
    "    from sklearn.utils import safe_indexing\n",
    "except ImportError:\n",
    "    from sklearn.utils import _safe_indexing as safe_indexing"
   ]
  },
  {
   "cell_type": "code",
   "execution_count": 174,
   "metadata": {},
   "outputs": [],
   "source": [
    "#from imblearn.over_sampling import SMOTE\n",
    "#sm=SMOTE(random_state=42)"
   ]
  },
  {
   "cell_type": "code",
   "execution_count": 175,
   "metadata": {},
   "outputs": [],
   "source": [
    "#X_final_smote,y_final=sm.fit_resample(df_x,df_y)"
   ]
  },
  {
   "cell_type": "code",
   "execution_count": null,
   "metadata": {},
   "outputs": [],
   "source": [
    "len(y_final[y_final==1])/len(y_final)"
   ]
  },
  {
   "cell_type": "code",
   "execution_count": null,
   "metadata": {},
   "outputs": [],
   "source": [
    "len(y_final)"
   ]
  },
  {
   "cell_type": "code",
   "execution_count": 50,
   "metadata": {},
   "outputs": [],
   "source": [
    "X_final = pd.read_csv(\"X_final.csv\", encoding=\"ISO-8859-1\")\n",
    "y_final = pd.read_csv(\"y_final.csv\", encoding=\"ISO-8859-1\")\n",
    "X_final = X_final.drop([\"Unnamed: 0\"], axis =1)\n",
    "y_final = y_final.drop([\"Unnamed: 0\"], axis =1)"
   ]
  },
  {
   "cell_type": "code",
   "execution_count": 51,
   "metadata": {},
   "outputs": [
    {
     "data": {
      "text/html": [
       "<div>\n",
       "<style scoped>\n",
       "    .dataframe tbody tr th:only-of-type {\n",
       "        vertical-align: middle;\n",
       "    }\n",
       "\n",
       "    .dataframe tbody tr th {\n",
       "        vertical-align: top;\n",
       "    }\n",
       "\n",
       "    .dataframe thead th {\n",
       "        text-align: right;\n",
       "    }\n",
       "</style>\n",
       "<table border=\"1\" class=\"dataframe\">\n",
       "  <thead>\n",
       "    <tr style=\"text-align: right;\">\n",
       "      <th></th>\n",
       "      <th>sports_man</th>\n",
       "      <th>tvsports_man</th>\n",
       "      <th>exercise_man</th>\n",
       "      <th>dining_man</th>\n",
       "      <th>museums_man</th>\n",
       "      <th>art_man</th>\n",
       "      <th>hiking_man</th>\n",
       "      <th>gaming_man</th>\n",
       "      <th>clubbing_man</th>\n",
       "      <th>reading_man</th>\n",
       "      <th>...</th>\n",
       "      <th>sinc3_1_woman</th>\n",
       "      <th>intel3_1_woman</th>\n",
       "      <th>fun3_1_woman</th>\n",
       "      <th>amb3_1_woman</th>\n",
       "      <th>attr1_1_woman</th>\n",
       "      <th>sinc1_1_woman</th>\n",
       "      <th>intel1_1_woman</th>\n",
       "      <th>fun1_1_woman</th>\n",
       "      <th>amb1_1_woman</th>\n",
       "      <th>shar1_1_woman</th>\n",
       "    </tr>\n",
       "  </thead>\n",
       "  <tbody>\n",
       "    <tr>\n",
       "      <th>0</th>\n",
       "      <td>8.0</td>\n",
       "      <td>7.000000</td>\n",
       "      <td>2.0</td>\n",
       "      <td>6.000000</td>\n",
       "      <td>7.000000</td>\n",
       "      <td>5.000000</td>\n",
       "      <td>5.000000</td>\n",
       "      <td>5.000000</td>\n",
       "      <td>4.0</td>\n",
       "      <td>9.000000</td>\n",
       "      <td>...</td>\n",
       "      <td>8.000000</td>\n",
       "      <td>8.000000</td>\n",
       "      <td>8.000000</td>\n",
       "      <td>7.000000</td>\n",
       "      <td>15.000000</td>\n",
       "      <td>20.000000</td>\n",
       "      <td>20.000000</td>\n",
       "      <td>15.000000</td>\n",
       "      <td>15.000000</td>\n",
       "      <td>15.000000</td>\n",
       "    </tr>\n",
       "    <tr>\n",
       "      <th>1</th>\n",
       "      <td>8.0</td>\n",
       "      <td>7.000000</td>\n",
       "      <td>2.0</td>\n",
       "      <td>6.000000</td>\n",
       "      <td>7.000000</td>\n",
       "      <td>5.000000</td>\n",
       "      <td>5.000000</td>\n",
       "      <td>5.000000</td>\n",
       "      <td>4.0</td>\n",
       "      <td>9.000000</td>\n",
       "      <td>...</td>\n",
       "      <td>5.000000</td>\n",
       "      <td>8.000000</td>\n",
       "      <td>10.000000</td>\n",
       "      <td>3.000000</td>\n",
       "      <td>45.000000</td>\n",
       "      <td>5.000000</td>\n",
       "      <td>25.000000</td>\n",
       "      <td>20.000000</td>\n",
       "      <td>0.000000</td>\n",
       "      <td>5.000000</td>\n",
       "    </tr>\n",
       "    <tr>\n",
       "      <th>2</th>\n",
       "      <td>8.0</td>\n",
       "      <td>7.000000</td>\n",
       "      <td>2.0</td>\n",
       "      <td>6.000000</td>\n",
       "      <td>7.000000</td>\n",
       "      <td>5.000000</td>\n",
       "      <td>5.000000</td>\n",
       "      <td>5.000000</td>\n",
       "      <td>4.0</td>\n",
       "      <td>9.000000</td>\n",
       "      <td>...</td>\n",
       "      <td>9.000000</td>\n",
       "      <td>9.000000</td>\n",
       "      <td>8.000000</td>\n",
       "      <td>8.000000</td>\n",
       "      <td>35.000000</td>\n",
       "      <td>10.000000</td>\n",
       "      <td>35.000000</td>\n",
       "      <td>10.000000</td>\n",
       "      <td>10.000000</td>\n",
       "      <td>0.000000</td>\n",
       "    </tr>\n",
       "    <tr>\n",
       "      <th>3</th>\n",
       "      <td>8.0</td>\n",
       "      <td>7.000000</td>\n",
       "      <td>2.0</td>\n",
       "      <td>6.000000</td>\n",
       "      <td>7.000000</td>\n",
       "      <td>5.000000</td>\n",
       "      <td>5.000000</td>\n",
       "      <td>5.000000</td>\n",
       "      <td>4.0</td>\n",
       "      <td>9.000000</td>\n",
       "      <td>...</td>\n",
       "      <td>8.000000</td>\n",
       "      <td>7.000000</td>\n",
       "      <td>9.000000</td>\n",
       "      <td>8.000000</td>\n",
       "      <td>20.000000</td>\n",
       "      <td>20.000000</td>\n",
       "      <td>20.000000</td>\n",
       "      <td>20.000000</td>\n",
       "      <td>10.000000</td>\n",
       "      <td>10.000000</td>\n",
       "    </tr>\n",
       "    <tr>\n",
       "      <th>4</th>\n",
       "      <td>8.0</td>\n",
       "      <td>7.000000</td>\n",
       "      <td>2.0</td>\n",
       "      <td>6.000000</td>\n",
       "      <td>7.000000</td>\n",
       "      <td>5.000000</td>\n",
       "      <td>5.000000</td>\n",
       "      <td>5.000000</td>\n",
       "      <td>4.0</td>\n",
       "      <td>9.000000</td>\n",
       "      <td>...</td>\n",
       "      <td>3.000000</td>\n",
       "      <td>10.000000</td>\n",
       "      <td>6.000000</td>\n",
       "      <td>8.000000</td>\n",
       "      <td>20.000000</td>\n",
       "      <td>5.000000</td>\n",
       "      <td>25.000000</td>\n",
       "      <td>25.000000</td>\n",
       "      <td>10.000000</td>\n",
       "      <td>15.000000</td>\n",
       "    </tr>\n",
       "    <tr>\n",
       "      <th>...</th>\n",
       "      <td>...</td>\n",
       "      <td>...</td>\n",
       "      <td>...</td>\n",
       "      <td>...</td>\n",
       "      <td>...</td>\n",
       "      <td>...</td>\n",
       "      <td>...</td>\n",
       "      <td>...</td>\n",
       "      <td>...</td>\n",
       "      <td>...</td>\n",
       "      <td>...</td>\n",
       "      <td>...</td>\n",
       "      <td>...</td>\n",
       "      <td>...</td>\n",
       "      <td>...</td>\n",
       "      <td>...</td>\n",
       "      <td>...</td>\n",
       "      <td>...</td>\n",
       "      <td>...</td>\n",
       "      <td>...</td>\n",
       "      <td>...</td>\n",
       "    </tr>\n",
       "    <tr>\n",
       "      <th>6761</th>\n",
       "      <td>10.0</td>\n",
       "      <td>10.000000</td>\n",
       "      <td>10.0</td>\n",
       "      <td>10.000000</td>\n",
       "      <td>5.000000</td>\n",
       "      <td>5.000000</td>\n",
       "      <td>6.000000</td>\n",
       "      <td>7.000000</td>\n",
       "      <td>9.0</td>\n",
       "      <td>8.000000</td>\n",
       "      <td>...</td>\n",
       "      <td>7.169504</td>\n",
       "      <td>8.491488</td>\n",
       "      <td>8.339008</td>\n",
       "      <td>5.678016</td>\n",
       "      <td>10.847520</td>\n",
       "      <td>23.304959</td>\n",
       "      <td>19.152480</td>\n",
       "      <td>27.542561</td>\n",
       "      <td>5.847520</td>\n",
       "      <td>13.304959</td>\n",
       "    </tr>\n",
       "    <tr>\n",
       "      <th>6762</th>\n",
       "      <td>7.0</td>\n",
       "      <td>2.000000</td>\n",
       "      <td>6.0</td>\n",
       "      <td>7.000000</td>\n",
       "      <td>7.000000</td>\n",
       "      <td>7.000000</td>\n",
       "      <td>5.000000</td>\n",
       "      <td>5.000000</td>\n",
       "      <td>5.0</td>\n",
       "      <td>8.000000</td>\n",
       "      <td>...</td>\n",
       "      <td>5.898050</td>\n",
       "      <td>7.050975</td>\n",
       "      <td>9.898050</td>\n",
       "      <td>7.050975</td>\n",
       "      <td>19.443864</td>\n",
       "      <td>10.416974</td>\n",
       "      <td>20.370587</td>\n",
       "      <td>29.397477</td>\n",
       "      <td>10.416974</td>\n",
       "      <td>9.953613</td>\n",
       "    </tr>\n",
       "    <tr>\n",
       "      <th>6763</th>\n",
       "      <td>2.0</td>\n",
       "      <td>2.147413</td>\n",
       "      <td>2.0</td>\n",
       "      <td>9.617529</td>\n",
       "      <td>8.470116</td>\n",
       "      <td>8.087646</td>\n",
       "      <td>2.147413</td>\n",
       "      <td>4.677296</td>\n",
       "      <td>2.0</td>\n",
       "      <td>9.617529</td>\n",
       "      <td>...</td>\n",
       "      <td>8.764942</td>\n",
       "      <td>8.000000</td>\n",
       "      <td>6.087646</td>\n",
       "      <td>8.000000</td>\n",
       "      <td>10.000000</td>\n",
       "      <td>21.912354</td>\n",
       "      <td>20.000000</td>\n",
       "      <td>10.000000</td>\n",
       "      <td>20.000000</td>\n",
       "      <td>18.087646</td>\n",
       "    </tr>\n",
       "    <tr>\n",
       "      <th>6764</th>\n",
       "      <td>9.0</td>\n",
       "      <td>9.000000</td>\n",
       "      <td>9.0</td>\n",
       "      <td>8.000000</td>\n",
       "      <td>7.000000</td>\n",
       "      <td>6.000000</td>\n",
       "      <td>7.000000</td>\n",
       "      <td>7.000000</td>\n",
       "      <td>9.0</td>\n",
       "      <td>9.000000</td>\n",
       "      <td>...</td>\n",
       "      <td>9.792217</td>\n",
       "      <td>8.207783</td>\n",
       "      <td>6.623350</td>\n",
       "      <td>9.000000</td>\n",
       "      <td>15.150257</td>\n",
       "      <td>18.545858</td>\n",
       "      <td>18.545858</td>\n",
       "      <td>17.048569</td>\n",
       "      <td>17.048569</td>\n",
       "      <td>13.660890</td>\n",
       "    </tr>\n",
       "    <tr>\n",
       "      <th>6765</th>\n",
       "      <td>10.0</td>\n",
       "      <td>10.000000</td>\n",
       "      <td>10.0</td>\n",
       "      <td>5.000000</td>\n",
       "      <td>4.000000</td>\n",
       "      <td>4.000000</td>\n",
       "      <td>4.000000</td>\n",
       "      <td>7.000000</td>\n",
       "      <td>8.0</td>\n",
       "      <td>9.000000</td>\n",
       "      <td>...</td>\n",
       "      <td>5.763091</td>\n",
       "      <td>8.587697</td>\n",
       "      <td>7.587697</td>\n",
       "      <td>5.412303</td>\n",
       "      <td>15.412303</td>\n",
       "      <td>15.412303</td>\n",
       "      <td>22.526182</td>\n",
       "      <td>18.763091</td>\n",
       "      <td>8.710727</td>\n",
       "      <td>19.175394</td>\n",
       "    </tr>\n",
       "  </tbody>\n",
       "</table>\n",
       "<p>6766 rows × 56 columns</p>\n",
       "</div>"
      ],
      "text/plain": [
       "      sports_man  tvsports_man  exercise_man  dining_man  museums_man  \\\n",
       "0            8.0      7.000000           2.0    6.000000     7.000000   \n",
       "1            8.0      7.000000           2.0    6.000000     7.000000   \n",
       "2            8.0      7.000000           2.0    6.000000     7.000000   \n",
       "3            8.0      7.000000           2.0    6.000000     7.000000   \n",
       "4            8.0      7.000000           2.0    6.000000     7.000000   \n",
       "...          ...           ...           ...         ...          ...   \n",
       "6761        10.0     10.000000          10.0   10.000000     5.000000   \n",
       "6762         7.0      2.000000           6.0    7.000000     7.000000   \n",
       "6763         2.0      2.147413           2.0    9.617529     8.470116   \n",
       "6764         9.0      9.000000           9.0    8.000000     7.000000   \n",
       "6765        10.0     10.000000          10.0    5.000000     4.000000   \n",
       "\n",
       "       art_man  hiking_man  gaming_man  clubbing_man  reading_man  ...  \\\n",
       "0     5.000000    5.000000    5.000000           4.0     9.000000  ...   \n",
       "1     5.000000    5.000000    5.000000           4.0     9.000000  ...   \n",
       "2     5.000000    5.000000    5.000000           4.0     9.000000  ...   \n",
       "3     5.000000    5.000000    5.000000           4.0     9.000000  ...   \n",
       "4     5.000000    5.000000    5.000000           4.0     9.000000  ...   \n",
       "...        ...         ...         ...           ...          ...  ...   \n",
       "6761  5.000000    6.000000    7.000000           9.0     8.000000  ...   \n",
       "6762  7.000000    5.000000    5.000000           5.0     8.000000  ...   \n",
       "6763  8.087646    2.147413    4.677296           2.0     9.617529  ...   \n",
       "6764  6.000000    7.000000    7.000000           9.0     9.000000  ...   \n",
       "6765  4.000000    4.000000    7.000000           8.0     9.000000  ...   \n",
       "\n",
       "      sinc3_1_woman  intel3_1_woman  fun3_1_woman  amb3_1_woman  \\\n",
       "0          8.000000        8.000000      8.000000      7.000000   \n",
       "1          5.000000        8.000000     10.000000      3.000000   \n",
       "2          9.000000        9.000000      8.000000      8.000000   \n",
       "3          8.000000        7.000000      9.000000      8.000000   \n",
       "4          3.000000       10.000000      6.000000      8.000000   \n",
       "...             ...             ...           ...           ...   \n",
       "6761       7.169504        8.491488      8.339008      5.678016   \n",
       "6762       5.898050        7.050975      9.898050      7.050975   \n",
       "6763       8.764942        8.000000      6.087646      8.000000   \n",
       "6764       9.792217        8.207783      6.623350      9.000000   \n",
       "6765       5.763091        8.587697      7.587697      5.412303   \n",
       "\n",
       "      attr1_1_woman  sinc1_1_woman  intel1_1_woman  fun1_1_woman  \\\n",
       "0         15.000000      20.000000       20.000000     15.000000   \n",
       "1         45.000000       5.000000       25.000000     20.000000   \n",
       "2         35.000000      10.000000       35.000000     10.000000   \n",
       "3         20.000000      20.000000       20.000000     20.000000   \n",
       "4         20.000000       5.000000       25.000000     25.000000   \n",
       "...             ...            ...             ...           ...   \n",
       "6761      10.847520      23.304959       19.152480     27.542561   \n",
       "6762      19.443864      10.416974       20.370587     29.397477   \n",
       "6763      10.000000      21.912354       20.000000     10.000000   \n",
       "6764      15.150257      18.545858       18.545858     17.048569   \n",
       "6765      15.412303      15.412303       22.526182     18.763091   \n",
       "\n",
       "      amb1_1_woman  shar1_1_woman  \n",
       "0        15.000000      15.000000  \n",
       "1         0.000000       5.000000  \n",
       "2        10.000000       0.000000  \n",
       "3        10.000000      10.000000  \n",
       "4        10.000000      15.000000  \n",
       "...            ...            ...  \n",
       "6761      5.847520      13.304959  \n",
       "6762     10.416974       9.953613  \n",
       "6763     20.000000      18.087646  \n",
       "6764     17.048569      13.660890  \n",
       "6765      8.710727      19.175394  \n",
       "\n",
       "[6766 rows x 56 columns]"
      ]
     },
     "execution_count": 51,
     "metadata": {},
     "output_type": "execute_result"
    }
   ],
   "source": [
    "X_final"
   ]
  },
  {
   "cell_type": "code",
   "execution_count": 52,
   "metadata": {},
   "outputs": [],
   "source": [
    "y_final = np.array(y_final)"
   ]
  },
  {
   "cell_type": "markdown",
   "metadata": {},
   "source": [
    "# Training & Testing"
   ]
  },
  {
   "cell_type": "markdown",
   "metadata": {},
   "source": [
    "## Logistic Regression"
   ]
  },
  {
   "cell_type": "code",
   "execution_count": 53,
   "metadata": {},
   "outputs": [],
   "source": [
    "from sklearn.model_selection import StratifiedShuffleSplit\n",
    "sss=StratifiedShuffleSplit(test_size=0.2,random_state=42)"
   ]
  },
  {
   "cell_type": "code",
   "execution_count": 54,
   "metadata": {},
   "outputs": [],
   "source": [
    "for train_index, test_index in sss.split(X_final,y_final):\n",
    "    X_train,X_test=X_final.iloc[train_index],X_final.iloc[test_index]\n",
    "    y_train,y_test=y_final[train_index],y_final[test_index]"
   ]
  },
  {
   "cell_type": "code",
   "execution_count": 55,
   "metadata": {},
   "outputs": [
    {
     "data": {
      "text/plain": [
       "(5412, 5412)"
      ]
     },
     "execution_count": 55,
     "metadata": {},
     "output_type": "execute_result"
    }
   ],
   "source": [
    "len(X_train), len(y_train)"
   ]
  },
  {
   "cell_type": "code",
   "execution_count": 56,
   "metadata": {},
   "outputs": [
    {
     "data": {
      "text/plain": [
       "(1354, 1354)"
      ]
     },
     "execution_count": 56,
     "metadata": {},
     "output_type": "execute_result"
    }
   ],
   "source": [
    "len(X_test), len(y_test)"
   ]
  },
  {
   "cell_type": "code",
   "execution_count": 57,
   "metadata": {},
   "outputs": [],
   "source": [
    "X_train=X_train.reset_index()\n",
    "X_train=X_train.drop(['index'],axis=1)\n",
    "X_test=X_test.reset_index()\n",
    "X_test=X_test.drop(['index'],axis=1)"
   ]
  },
  {
   "cell_type": "code",
   "execution_count": 58,
   "metadata": {},
   "outputs": [
    {
     "data": {
      "text/html": [
       "<div>\n",
       "<style scoped>\n",
       "    .dataframe tbody tr th:only-of-type {\n",
       "        vertical-align: middle;\n",
       "    }\n",
       "\n",
       "    .dataframe tbody tr th {\n",
       "        vertical-align: top;\n",
       "    }\n",
       "\n",
       "    .dataframe thead th {\n",
       "        text-align: right;\n",
       "    }\n",
       "</style>\n",
       "<table border=\"1\" class=\"dataframe\">\n",
       "  <thead>\n",
       "    <tr style=\"text-align: right;\">\n",
       "      <th></th>\n",
       "      <th>sports_man</th>\n",
       "      <th>tvsports_man</th>\n",
       "      <th>exercise_man</th>\n",
       "      <th>dining_man</th>\n",
       "      <th>museums_man</th>\n",
       "      <th>art_man</th>\n",
       "      <th>hiking_man</th>\n",
       "      <th>gaming_man</th>\n",
       "      <th>clubbing_man</th>\n",
       "      <th>reading_man</th>\n",
       "      <th>...</th>\n",
       "      <th>sinc3_1_woman</th>\n",
       "      <th>intel3_1_woman</th>\n",
       "      <th>fun3_1_woman</th>\n",
       "      <th>amb3_1_woman</th>\n",
       "      <th>attr1_1_woman</th>\n",
       "      <th>sinc1_1_woman</th>\n",
       "      <th>intel1_1_woman</th>\n",
       "      <th>fun1_1_woman</th>\n",
       "      <th>amb1_1_woman</th>\n",
       "      <th>shar1_1_woman</th>\n",
       "    </tr>\n",
       "  </thead>\n",
       "  <tbody>\n",
       "    <tr>\n",
       "      <th>0</th>\n",
       "      <td>8.937349</td>\n",
       "      <td>6.093976</td>\n",
       "      <td>7.843373</td>\n",
       "      <td>7.062651</td>\n",
       "      <td>8.031325</td>\n",
       "      <td>7.031325</td>\n",
       "      <td>7.937349</td>\n",
       "      <td>7.000000</td>\n",
       "      <td>8.937349</td>\n",
       "      <td>7.968675</td>\n",
       "      <td>...</td>\n",
       "      <td>8.031325</td>\n",
       "      <td>8.000000</td>\n",
       "      <td>8.031325</td>\n",
       "      <td>8.000000</td>\n",
       "      <td>14.843373</td>\n",
       "      <td>30.000000</td>\n",
       "      <td>29.686746</td>\n",
       "      <td>10.156627</td>\n",
       "      <td>10.156627</td>\n",
       "      <td>5.156627</td>\n",
       "    </tr>\n",
       "    <tr>\n",
       "      <th>1</th>\n",
       "      <td>9.000000</td>\n",
       "      <td>3.000000</td>\n",
       "      <td>5.000000</td>\n",
       "      <td>7.000000</td>\n",
       "      <td>9.000000</td>\n",
       "      <td>10.000000</td>\n",
       "      <td>7.000000</td>\n",
       "      <td>3.000000</td>\n",
       "      <td>7.000000</td>\n",
       "      <td>5.000000</td>\n",
       "      <td>...</td>\n",
       "      <td>8.000000</td>\n",
       "      <td>10.000000</td>\n",
       "      <td>9.000000</td>\n",
       "      <td>7.000000</td>\n",
       "      <td>16.000000</td>\n",
       "      <td>20.000000</td>\n",
       "      <td>18.000000</td>\n",
       "      <td>20.000000</td>\n",
       "      <td>18.000000</td>\n",
       "      <td>8.000000</td>\n",
       "    </tr>\n",
       "    <tr>\n",
       "      <th>2</th>\n",
       "      <td>7.000000</td>\n",
       "      <td>3.000000</td>\n",
       "      <td>4.000000</td>\n",
       "      <td>5.000000</td>\n",
       "      <td>6.000000</td>\n",
       "      <td>7.000000</td>\n",
       "      <td>3.000000</td>\n",
       "      <td>2.000000</td>\n",
       "      <td>5.000000</td>\n",
       "      <td>7.000000</td>\n",
       "      <td>...</td>\n",
       "      <td>9.000000</td>\n",
       "      <td>7.905627</td>\n",
       "      <td>8.452814</td>\n",
       "      <td>5.641559</td>\n",
       "      <td>12.264069</td>\n",
       "      <td>20.000000</td>\n",
       "      <td>17.264069</td>\n",
       "      <td>20.000000</td>\n",
       "      <td>13.207794</td>\n",
       "      <td>17.264069</td>\n",
       "    </tr>\n",
       "    <tr>\n",
       "      <th>3</th>\n",
       "      <td>7.000000</td>\n",
       "      <td>7.000000</td>\n",
       "      <td>6.000000</td>\n",
       "      <td>9.000000</td>\n",
       "      <td>9.000000</td>\n",
       "      <td>8.000000</td>\n",
       "      <td>6.000000</td>\n",
       "      <td>4.000000</td>\n",
       "      <td>5.000000</td>\n",
       "      <td>8.000000</td>\n",
       "      <td>...</td>\n",
       "      <td>9.000000</td>\n",
       "      <td>10.000000</td>\n",
       "      <td>8.000000</td>\n",
       "      <td>8.000000</td>\n",
       "      <td>14.000000</td>\n",
       "      <td>20.000000</td>\n",
       "      <td>20.000000</td>\n",
       "      <td>14.000000</td>\n",
       "      <td>18.000000</td>\n",
       "      <td>14.000000</td>\n",
       "    </tr>\n",
       "    <tr>\n",
       "      <th>4</th>\n",
       "      <td>7.000000</td>\n",
       "      <td>2.000000</td>\n",
       "      <td>8.000000</td>\n",
       "      <td>10.000000</td>\n",
       "      <td>10.000000</td>\n",
       "      <td>10.000000</td>\n",
       "      <td>6.000000</td>\n",
       "      <td>1.000000</td>\n",
       "      <td>2.000000</td>\n",
       "      <td>10.000000</td>\n",
       "      <td>...</td>\n",
       "      <td>9.000000</td>\n",
       "      <td>8.109943</td>\n",
       "      <td>7.329829</td>\n",
       "      <td>4.439772</td>\n",
       "      <td>19.450285</td>\n",
       "      <td>20.000000</td>\n",
       "      <td>24.450285</td>\n",
       "      <td>19.450285</td>\n",
       "      <td>6.099430</td>\n",
       "      <td>10.549715</td>\n",
       "    </tr>\n",
       "    <tr>\n",
       "      <th>...</th>\n",
       "      <td>...</td>\n",
       "      <td>...</td>\n",
       "      <td>...</td>\n",
       "      <td>...</td>\n",
       "      <td>...</td>\n",
       "      <td>...</td>\n",
       "      <td>...</td>\n",
       "      <td>...</td>\n",
       "      <td>...</td>\n",
       "      <td>...</td>\n",
       "      <td>...</td>\n",
       "      <td>...</td>\n",
       "      <td>...</td>\n",
       "      <td>...</td>\n",
       "      <td>...</td>\n",
       "      <td>...</td>\n",
       "      <td>...</td>\n",
       "      <td>...</td>\n",
       "      <td>...</td>\n",
       "      <td>...</td>\n",
       "      <td>...</td>\n",
       "    </tr>\n",
       "    <tr>\n",
       "      <th>5407</th>\n",
       "      <td>9.000000</td>\n",
       "      <td>9.000000</td>\n",
       "      <td>7.000000</td>\n",
       "      <td>9.000000</td>\n",
       "      <td>9.000000</td>\n",
       "      <td>9.000000</td>\n",
       "      <td>8.000000</td>\n",
       "      <td>8.000000</td>\n",
       "      <td>9.000000</td>\n",
       "      <td>8.000000</td>\n",
       "      <td>...</td>\n",
       "      <td>7.000000</td>\n",
       "      <td>9.000000</td>\n",
       "      <td>7.000000</td>\n",
       "      <td>8.000000</td>\n",
       "      <td>15.000000</td>\n",
       "      <td>3.000000</td>\n",
       "      <td>50.000000</td>\n",
       "      <td>20.000000</td>\n",
       "      <td>2.000000</td>\n",
       "      <td>10.000000</td>\n",
       "    </tr>\n",
       "    <tr>\n",
       "      <th>5408</th>\n",
       "      <td>4.000000</td>\n",
       "      <td>1.000000</td>\n",
       "      <td>2.000000</td>\n",
       "      <td>10.000000</td>\n",
       "      <td>7.000000</td>\n",
       "      <td>7.000000</td>\n",
       "      <td>9.000000</td>\n",
       "      <td>9.000000</td>\n",
       "      <td>8.000000</td>\n",
       "      <td>7.000000</td>\n",
       "      <td>...</td>\n",
       "      <td>9.000000</td>\n",
       "      <td>9.000000</td>\n",
       "      <td>9.000000</td>\n",
       "      <td>7.000000</td>\n",
       "      <td>35.000000</td>\n",
       "      <td>0.000000</td>\n",
       "      <td>35.000000</td>\n",
       "      <td>10.000000</td>\n",
       "      <td>10.000000</td>\n",
       "      <td>10.000000</td>\n",
       "    </tr>\n",
       "    <tr>\n",
       "      <th>5409</th>\n",
       "      <td>9.000000</td>\n",
       "      <td>2.470119</td>\n",
       "      <td>5.000000</td>\n",
       "      <td>7.000000</td>\n",
       "      <td>6.529881</td>\n",
       "      <td>7.589644</td>\n",
       "      <td>7.059763</td>\n",
       "      <td>2.410356</td>\n",
       "      <td>5.470119</td>\n",
       "      <td>9.000000</td>\n",
       "      <td>...</td>\n",
       "      <td>9.529881</td>\n",
       "      <td>8.529881</td>\n",
       "      <td>8.470119</td>\n",
       "      <td>6.880475</td>\n",
       "      <td>8.410356</td>\n",
       "      <td>37.350594</td>\n",
       "      <td>15.298813</td>\n",
       "      <td>20.000000</td>\n",
       "      <td>7.350594</td>\n",
       "      <td>11.589644</td>\n",
       "    </tr>\n",
       "    <tr>\n",
       "      <th>5410</th>\n",
       "      <td>2.000000</td>\n",
       "      <td>1.000000</td>\n",
       "      <td>5.000000</td>\n",
       "      <td>7.000000</td>\n",
       "      <td>2.000000</td>\n",
       "      <td>2.000000</td>\n",
       "      <td>9.000000</td>\n",
       "      <td>6.000000</td>\n",
       "      <td>4.000000</td>\n",
       "      <td>10.000000</td>\n",
       "      <td>...</td>\n",
       "      <td>10.000000</td>\n",
       "      <td>9.000000</td>\n",
       "      <td>10.000000</td>\n",
       "      <td>10.000000</td>\n",
       "      <td>25.000000</td>\n",
       "      <td>20.000000</td>\n",
       "      <td>25.000000</td>\n",
       "      <td>25.000000</td>\n",
       "      <td>5.000000</td>\n",
       "      <td>0.000000</td>\n",
       "    </tr>\n",
       "    <tr>\n",
       "      <th>5411</th>\n",
       "      <td>4.192303</td>\n",
       "      <td>3.596151</td>\n",
       "      <td>6.701924</td>\n",
       "      <td>8.403849</td>\n",
       "      <td>7.105773</td>\n",
       "      <td>6.701924</td>\n",
       "      <td>2.788454</td>\n",
       "      <td>3.490378</td>\n",
       "      <td>5.298076</td>\n",
       "      <td>7.105773</td>\n",
       "      <td>...</td>\n",
       "      <td>8.000000</td>\n",
       "      <td>8.000000</td>\n",
       "      <td>8.000000</td>\n",
       "      <td>8.000000</td>\n",
       "      <td>20.000000</td>\n",
       "      <td>20.000000</td>\n",
       "      <td>20.000000</td>\n",
       "      <td>20.000000</td>\n",
       "      <td>20.000000</td>\n",
       "      <td>0.000000</td>\n",
       "    </tr>\n",
       "  </tbody>\n",
       "</table>\n",
       "<p>5412 rows × 56 columns</p>\n",
       "</div>"
      ],
      "text/plain": [
       "      sports_man  tvsports_man  exercise_man  dining_man  museums_man  \\\n",
       "0       8.937349      6.093976      7.843373    7.062651     8.031325   \n",
       "1       9.000000      3.000000      5.000000    7.000000     9.000000   \n",
       "2       7.000000      3.000000      4.000000    5.000000     6.000000   \n",
       "3       7.000000      7.000000      6.000000    9.000000     9.000000   \n",
       "4       7.000000      2.000000      8.000000   10.000000    10.000000   \n",
       "...          ...           ...           ...         ...          ...   \n",
       "5407    9.000000      9.000000      7.000000    9.000000     9.000000   \n",
       "5408    4.000000      1.000000      2.000000   10.000000     7.000000   \n",
       "5409    9.000000      2.470119      5.000000    7.000000     6.529881   \n",
       "5410    2.000000      1.000000      5.000000    7.000000     2.000000   \n",
       "5411    4.192303      3.596151      6.701924    8.403849     7.105773   \n",
       "\n",
       "        art_man  hiking_man  gaming_man  clubbing_man  reading_man  ...  \\\n",
       "0      7.031325    7.937349    7.000000      8.937349     7.968675  ...   \n",
       "1     10.000000    7.000000    3.000000      7.000000     5.000000  ...   \n",
       "2      7.000000    3.000000    2.000000      5.000000     7.000000  ...   \n",
       "3      8.000000    6.000000    4.000000      5.000000     8.000000  ...   \n",
       "4     10.000000    6.000000    1.000000      2.000000    10.000000  ...   \n",
       "...         ...         ...         ...           ...          ...  ...   \n",
       "5407   9.000000    8.000000    8.000000      9.000000     8.000000  ...   \n",
       "5408   7.000000    9.000000    9.000000      8.000000     7.000000  ...   \n",
       "5409   7.589644    7.059763    2.410356      5.470119     9.000000  ...   \n",
       "5410   2.000000    9.000000    6.000000      4.000000    10.000000  ...   \n",
       "5411   6.701924    2.788454    3.490378      5.298076     7.105773  ...   \n",
       "\n",
       "      sinc3_1_woman  intel3_1_woman  fun3_1_woman  amb3_1_woman  \\\n",
       "0          8.031325        8.000000      8.031325      8.000000   \n",
       "1          8.000000       10.000000      9.000000      7.000000   \n",
       "2          9.000000        7.905627      8.452814      5.641559   \n",
       "3          9.000000       10.000000      8.000000      8.000000   \n",
       "4          9.000000        8.109943      7.329829      4.439772   \n",
       "...             ...             ...           ...           ...   \n",
       "5407       7.000000        9.000000      7.000000      8.000000   \n",
       "5408       9.000000        9.000000      9.000000      7.000000   \n",
       "5409       9.529881        8.529881      8.470119      6.880475   \n",
       "5410      10.000000        9.000000     10.000000     10.000000   \n",
       "5411       8.000000        8.000000      8.000000      8.000000   \n",
       "\n",
       "      attr1_1_woman  sinc1_1_woman  intel1_1_woman  fun1_1_woman  \\\n",
       "0         14.843373      30.000000       29.686746     10.156627   \n",
       "1         16.000000      20.000000       18.000000     20.000000   \n",
       "2         12.264069      20.000000       17.264069     20.000000   \n",
       "3         14.000000      20.000000       20.000000     14.000000   \n",
       "4         19.450285      20.000000       24.450285     19.450285   \n",
       "...             ...            ...             ...           ...   \n",
       "5407      15.000000       3.000000       50.000000     20.000000   \n",
       "5408      35.000000       0.000000       35.000000     10.000000   \n",
       "5409       8.410356      37.350594       15.298813     20.000000   \n",
       "5410      25.000000      20.000000       25.000000     25.000000   \n",
       "5411      20.000000      20.000000       20.000000     20.000000   \n",
       "\n",
       "      amb1_1_woman  shar1_1_woman  \n",
       "0        10.156627       5.156627  \n",
       "1        18.000000       8.000000  \n",
       "2        13.207794      17.264069  \n",
       "3        18.000000      14.000000  \n",
       "4         6.099430      10.549715  \n",
       "...            ...            ...  \n",
       "5407      2.000000      10.000000  \n",
       "5408     10.000000      10.000000  \n",
       "5409      7.350594      11.589644  \n",
       "5410      5.000000       0.000000  \n",
       "5411     20.000000       0.000000  \n",
       "\n",
       "[5412 rows x 56 columns]"
      ]
     },
     "execution_count": 58,
     "metadata": {},
     "output_type": "execute_result"
    }
   ],
   "source": [
    "X_train"
   ]
  },
  {
   "cell_type": "code",
   "execution_count": 60,
   "metadata": {},
   "outputs": [],
   "source": [
    "y_train = np.array(y_train)"
   ]
  },
  {
   "cell_type": "code",
   "execution_count": 61,
   "metadata": {},
   "outputs": [],
   "source": [
    "y_test = np.array(y_test)"
   ]
  },
  {
   "cell_type": "code",
   "execution_count": 62,
   "metadata": {},
   "outputs": [],
   "source": [
    "from sklearn.linear_model import LogisticRegression\n",
    "from sklearn.model_selection import GridSearchCV"
   ]
  },
  {
   "cell_type": "code",
   "execution_count": 55,
   "metadata": {},
   "outputs": [],
   "source": [
    "from sklearn.linear_model import LogisticRegression\n",
    "from sklearn.model_selection import GridSearchCV\n",
    "cv_LR_params={'C':[0.00001, 0.001, 0.1, 1, 10, 100, 1000],#smaller values specify stronger regularization.\n",
    "             'max_iter':[30,50,70,100,200,300,500], #how many rounds...\n",
    "             'tol':[1e-6,1e-5,1e-4]#lower value permits the algorithm to fully converge\n",
    "             }\n",
    "ind_LR_params={'penalty':'l2','random_state':42,'solver':'saga','n_jobs':-1}\n",
    "optimized_LR=GridSearchCV(LogisticRegression(**ind_LR_params),\n",
    "                         cv_LR_params,scoring='accuracy',cv=5,n_jobs=-1) \n",
    "#147 iterations, start at 10:30 pm, finished before 7:00am"
   ]
  },
  {
   "cell_type": "code",
   "execution_count": 56,
   "metadata": {},
   "outputs": [
    {
     "data": {
      "text/plain": [
       "GridSearchCV(cv=5,\n",
       "             estimator=LogisticRegression(n_jobs=-1, random_state=42,\n",
       "                                          solver='saga'),\n",
       "             n_jobs=-1,\n",
       "             param_grid={'C': [1e-05, 0.001, 0.1, 1, 10, 100, 1000],\n",
       "                         'max_iter': [30, 50, 70, 100, 200, 300, 500],\n",
       "                         'tol': [1e-06, 1e-05, 0.0001]},\n",
       "             scoring='accuracy')"
      ]
     },
     "execution_count": 56,
     "metadata": {},
     "output_type": "execute_result"
    }
   ],
   "source": [
    "optimized_LR.fit(X_train,y_train)"
   ]
  },
  {
   "cell_type": "code",
   "execution_count": 57,
   "metadata": {},
   "outputs": [
    {
     "data": {
      "text/plain": [
       "{'C': 1, 'max_iter': 100, 'tol': 1e-06}"
      ]
     },
     "execution_count": 57,
     "metadata": {},
     "output_type": "execute_result"
    }
   ],
   "source": [
    "optimized_LR.best_params_"
   ]
  },
  {
   "cell_type": "code",
   "execution_count": 80,
   "metadata": {},
   "outputs": [],
   "source": [
    "# best parameters.\n",
    "final_LR=LogisticRegression(penalty='l2',random_state=42,solver='saga',C=1,max_iter=100,tol=1e-06,n_jobs=-1)"
   ]
  },
  {
   "cell_type": "code",
   "execution_count": 81,
   "metadata": {},
   "outputs": [
    {
     "data": {
      "text/plain": [
       "LogisticRegression(C=1, n_jobs=-1, random_state=42, solver='saga', tol=1e-06)"
      ]
     },
     "execution_count": 81,
     "metadata": {},
     "output_type": "execute_result"
    }
   ],
   "source": [
    "final_LR.fit(X_train,y_train)"
   ]
  },
  {
   "cell_type": "markdown",
   "metadata": {},
   "source": [
    "## Logistic Regression Test"
   ]
  },
  {
   "cell_type": "code",
   "execution_count": 82,
   "metadata": {},
   "outputs": [
    {
     "data": {
      "text/plain": [
       "array([0.61808118, 0.62546125, 0.60443623, 0.61922366, 0.61182994,\n",
       "       0.60628466, 0.6155268 , 0.59334566, 0.62661738, 0.63955638])"
      ]
     },
     "execution_count": 82,
     "metadata": {},
     "output_type": "execute_result"
    }
   ],
   "source": [
    "from sklearn.model_selection import cross_val_score\n",
    "cross_val_score(final_LR,X_train,y_train,scoring=\"accuracy\",n_jobs=-1,cv=10)"
   ]
  },
  {
   "cell_type": "code",
   "execution_count": 83,
   "metadata": {},
   "outputs": [
    {
     "data": {
      "text/plain": [
       "0.624563024"
      ]
     },
     "execution_count": 83,
     "metadata": {},
     "output_type": "execute_result"
    }
   ],
   "source": [
    "accuracy_LR=np.sum([0.63054187, 0.59441708, 0.65353038, 0.60098522, 0.66174056,\n",
    "       0.61412151, 0.61247947, 0.66009852, 0.62889984, 0.58881579])/10\n",
    "accuracy_LR"
   ]
  },
  {
   "cell_type": "code",
   "execution_count": 84,
   "metadata": {},
   "outputs": [],
   "source": [
    "from sklearn.metrics import accuracy_score,precision_score\n",
    "y_pred_LR=final_LR.predict(X_test)"
   ]
  },
  {
   "cell_type": "code",
   "execution_count": 85,
   "metadata": {},
   "outputs": [],
   "source": [
    "y_pred_prob_LR = final_LR.predict_proba(X_test)"
   ]
  },
  {
   "cell_type": "code",
   "execution_count": 86,
   "metadata": {},
   "outputs": [
    {
     "data": {
      "text/plain": [
       "0.6395864106351551"
      ]
     },
     "execution_count": 86,
     "metadata": {},
     "output_type": "execute_result"
    }
   ],
   "source": [
    "accuracy_score(y_test,y_pred_LR)"
   ]
  },
  {
   "cell_type": "code",
   "execution_count": 87,
   "metadata": {},
   "outputs": [
    {
     "data": {
      "text/plain": [
       "array([1, 0, 0, ..., 1, 0, 1])"
      ]
     },
     "execution_count": 87,
     "metadata": {},
     "output_type": "execute_result"
    }
   ],
   "source": [
    "y_pred_LR"
   ]
  },
  {
   "cell_type": "code",
   "execution_count": 88,
   "metadata": {},
   "outputs": [
    {
     "data": {
      "text/plain": [
       "array([[0.34823389, 0.65176611],\n",
       "       [0.59061468, 0.40938532],\n",
       "       [0.50330242, 0.49669758],\n",
       "       ...,\n",
       "       [0.37496823, 0.62503177],\n",
       "       [0.65718343, 0.34281657],\n",
       "       [0.25907571, 0.74092429]])"
      ]
     },
     "execution_count": 88,
     "metadata": {},
     "output_type": "execute_result"
    }
   ],
   "source": [
    "y_pred_prob_LR"
   ]
  },
  {
   "cell_type": "code",
   "execution_count": 89,
   "metadata": {},
   "outputs": [
    {
     "data": {
      "text/plain": [
       "['LR_1.joblib']"
      ]
     },
     "execution_count": 89,
     "metadata": {},
     "output_type": "execute_result"
    }
   ],
   "source": [
    "from joblib import dump, load\n",
    "dump(final_LR, 'LR_1.joblib') "
   ]
  },
  {
   "cell_type": "code",
   "execution_count": 90,
   "metadata": {},
   "outputs": [
    {
     "data": {
      "text/plain": [
       "0.6383601756954612"
      ]
     },
     "execution_count": 90,
     "metadata": {},
     "output_type": "execute_result"
    }
   ],
   "source": [
    "precision_score(y_test,y_pred_LR)"
   ]
  },
  {
   "cell_type": "code",
   "execution_count": 91,
   "metadata": {},
   "outputs": [
    {
     "data": {
      "text/plain": [
       "0.6440177252584933"
      ]
     },
     "execution_count": 91,
     "metadata": {},
     "output_type": "execute_result"
    }
   ],
   "source": [
    "from sklearn.metrics import recall_score\n",
    "recall_score(y_test,y_pred_LR)"
   ]
  },
  {
   "cell_type": "code",
   "execution_count": 92,
   "metadata": {},
   "outputs": [
    {
     "data": {
      "text/plain": [
       "0.6411764705882353"
      ]
     },
     "execution_count": 92,
     "metadata": {},
     "output_type": "execute_result"
    }
   ],
   "source": [
    "from sklearn.metrics import f1_score\n",
    "f1_score(y_test,y_pred_LR)"
   ]
  },
  {
   "cell_type": "markdown",
   "metadata": {},
   "source": [
    "## SVM"
   ]
  },
  {
   "cell_type": "code",
   "execution_count": 105,
   "metadata": {},
   "outputs": [],
   "source": [
    "from sklearn.svm import SVC\n",
    "from sklearn.model_selection import GridSearchCV\n",
    "cv_SVC_params={'C':[0.1, 0.3, 0.7, 1, 3, 7, 10, 30, 70, 100, 300, 700, 1000]}\n",
    "ind_SVC_params ={}\n",
    "optimized_SVC=GridSearchCV(SVC(**ind_SVC_params),\n",
    "                         cv_SVC_params,scoring='accuracy',cv=5,n_jobs=-1) "
   ]
  },
  {
   "cell_type": "code",
   "execution_count": 106,
   "metadata": {},
   "outputs": [
    {
     "data": {
      "text/plain": [
       "GridSearchCV(cv=5, estimator=SVC(), n_jobs=-1,\n",
       "             param_grid={'C': [0.1, 0.3, 0.7, 1, 3, 7, 10, 30, 70, 100, 300,\n",
       "                               700, 1000]},\n",
       "             scoring='accuracy')"
      ]
     },
     "execution_count": 106,
     "metadata": {},
     "output_type": "execute_result"
    }
   ],
   "source": [
    "optimized_SVC.fit(X_train,y_train)"
   ]
  },
  {
   "cell_type": "code",
   "execution_count": 107,
   "metadata": {},
   "outputs": [
    {
     "data": {
      "text/plain": [
       "{'C': 700}"
      ]
     },
     "execution_count": 107,
     "metadata": {},
     "output_type": "execute_result"
    }
   ],
   "source": [
    "optimized_SVC.best_params_    # but overfitting"
   ]
  },
  {
   "cell_type": "code",
   "execution_count": 120,
   "metadata": {},
   "outputs": [],
   "source": [
    "final_SVC=SVC(C=2)"
   ]
  },
  {
   "cell_type": "code",
   "execution_count": 121,
   "metadata": {},
   "outputs": [
    {
     "data": {
      "text/plain": [
       "SVC(C=2)"
      ]
     },
     "execution_count": 121,
     "metadata": {},
     "output_type": "execute_result"
    }
   ],
   "source": [
    "final_SVC.fit(X_train,y_train)"
   ]
  },
  {
   "cell_type": "markdown",
   "metadata": {},
   "source": [
    "## SVM Test"
   ]
  },
  {
   "cell_type": "code",
   "execution_count": 122,
   "metadata": {},
   "outputs": [],
   "source": [
    "y_pred_SVC=final_SVC.predict(X_test)"
   ]
  },
  {
   "cell_type": "code",
   "execution_count": 123,
   "metadata": {},
   "outputs": [],
   "source": [
    "y_pred_SVC_train=final_SVC.predict(X_train)"
   ]
  },
  {
   "cell_type": "code",
   "execution_count": 124,
   "metadata": {},
   "outputs": [
    {
     "data": {
      "text/plain": [
       "0.8141167775314117"
      ]
     },
     "execution_count": 124,
     "metadata": {},
     "output_type": "execute_result"
    }
   ],
   "source": [
    "accuracy_score(y_train,y_pred_SVC_train)"
   ]
  },
  {
   "cell_type": "code",
   "execution_count": 125,
   "metadata": {},
   "outputs": [
    {
     "data": {
      "text/plain": [
       "0.7880354505169868"
      ]
     },
     "execution_count": 125,
     "metadata": {},
     "output_type": "execute_result"
    }
   ],
   "source": [
    "accuracy_score(y_test,y_pred_SVC)"
   ]
  },
  {
   "cell_type": "markdown",
   "metadata": {},
   "source": [
    "## Random Forest"
   ]
  },
  {
   "cell_type": "code",
   "execution_count": 126,
   "metadata": {},
   "outputs": [],
   "source": [
    "from sklearn.ensemble import RandomForestClassifier"
   ]
  },
  {
   "cell_type": "code",
   "execution_count": 163,
   "metadata": {},
   "outputs": [
    {
     "data": {
      "text/plain": [
       "RandomizedSearchCV(cv=5,\n",
       "                   estimator=RandomForestClassifier(n_jobs=-1, random_state=42),\n",
       "                   n_iter=100, n_jobs=-1,\n",
       "                   param_distributions={'max_depth': <scipy.stats._distn_infrastructure.rv_frozen object at 0x7f8f4800c950>,\n",
       "                                        'max_features': <scipy.stats._distn_infrastructure.rv_frozen object at 0x7f8ef8035e10>,\n",
       "                                        'min_impurity_decrease': [0, 0.0001,\n",
       "                                                                  0.0001, 0.001,\n",
       "                                                                  0.005],\n",
       "                                        'min_samples_leaf': <scipy.stats._distn_infrastructure.rv_frozen object at 0x7f8f889064d0>,\n",
       "                                        'min_samples_split': <scipy.stats._distn_infrastructure.rv_frozen object at 0x7f8fb945a1d0>,\n",
       "                                        'n_estimators': <scipy.stats._distn_infrastructure.rv_frozen object at 0x7f8f4800cd90>},\n",
       "                   scoring='accuracy')"
      ]
     },
     "execution_count": 163,
     "metadata": {},
     "output_type": "execute_result"
    }
   ],
   "source": [
    "from sklearn.model_selection import RandomizedSearchCV\n",
    "from scipy.stats import randint\n",
    "\n",
    "cv_params_RF={\n",
    "    'n_estimators':randint(low=10,high=300),\n",
    "    'max_depth':randint(low=2,high=13),\n",
    "    'min_samples_split':randint(low=2, high=15),\n",
    "    'min_samples_leaf':randint(low=2,high=10),\n",
    "    'max_features':randint(low=3,high=30), #total of 160\n",
    "    #'min_weight_fraction_leaf': It's a bit redundant with min_samples_leaf if the sample weights are not provided,\n",
    "    # and since the data set is already balanced, no need ofr class_weight\n",
    "    'min_impurity_decrease':[0,0.0001, 0.0001,0.001,0.005]\n",
    "    #'max_leaf_nodes': this is the same as max_depth no use...\n",
    " }\n",
    "\n",
    "ind_params_RF={'n_jobs':-1,'random_state':42}\n",
    "RSCV_RF=RandomizedSearchCV(RandomForestClassifier(**ind_params_RF),\n",
    "                           cv_params_RF,n_iter=100,cv=5,scoring='accuracy',n_jobs=-1)\n",
    "RSCV_RF.fit(X_train,y_train)\n",
    "#5 hours for 40 iterations, 14 hours for 80 iterations,l25 in 22 hours but a bit conservative let's say 100\n",
    "#start at 5 pm. finished after 10 pm the next day... before 9 a.m. the next next day"
   ]
  },
  {
   "cell_type": "code",
   "execution_count": 164,
   "metadata": {},
   "outputs": [
    {
     "data": {
      "text/plain": [
       "{'max_depth': 12,\n",
       " 'max_features': 12,\n",
       " 'min_impurity_decrease': 0.0001,\n",
       " 'min_samples_leaf': 3,\n",
       " 'min_samples_split': 3,\n",
       " 'n_estimators': 71}"
      ]
     },
     "execution_count": 164,
     "metadata": {},
     "output_type": "execute_result"
    }
   ],
   "source": [
    "RSCV_RF.best_params_"
   ]
  },
  {
   "cell_type": "code",
   "execution_count": 165,
   "metadata": {},
   "outputs": [
    {
     "data": {
      "text/plain": [
       "0.8980022290379124"
      ]
     },
     "execution_count": 165,
     "metadata": {},
     "output_type": "execute_result"
    }
   ],
   "source": [
    "RSCV_RF.best_score_"
   ]
  },
  {
   "cell_type": "markdown",
   "metadata": {},
   "source": [
    "## Random Forest Test"
   ]
  },
  {
   "cell_type": "code",
   "execution_count": 166,
   "metadata": {},
   "outputs": [
    {
     "data": {
      "text/plain": [
       "RandomForestClassifier(max_depth=12, max_features=12,\n",
       "                       min_impurity_decrease=0.0001, min_samples_leaf=3,\n",
       "                       min_samples_split=3, n_estimators=71, n_jobs=-1,\n",
       "                       oob_score=True)"
      ]
     },
     "execution_count": 166,
     "metadata": {},
     "output_type": "execute_result"
    }
   ],
   "source": [
    "final_RF=RandomForestClassifier(n_estimators=71,max_depth=12,min_samples_split=3,\n",
    "                                min_samples_leaf=3,max_features=12,min_impurity_decrease=0.0001,oob_score=True,n_jobs=-1)\n",
    "final_RF.fit(X_train,y_train)"
   ]
  },
  {
   "cell_type": "code",
   "execution_count": 167,
   "metadata": {},
   "outputs": [
    {
     "data": {
      "text/plain": [
       "0.8961566888396156"
      ]
     },
     "execution_count": 167,
     "metadata": {},
     "output_type": "execute_result"
    }
   ],
   "source": [
    "final_RF.oob_score_"
   ]
  },
  {
   "cell_type": "code",
   "execution_count": 168,
   "metadata": {},
   "outputs": [],
   "source": [
    "y_pred_RF=final_RF.predict(X_test)\n",
    "y_proba_RF=final_RF.predict_proba(X_test)"
   ]
  },
  {
   "cell_type": "code",
   "execution_count": 169,
   "metadata": {},
   "outputs": [],
   "source": [
    "y_pred_RF_train=final_RF.predict(X_train)"
   ]
  },
  {
   "cell_type": "code",
   "execution_count": 170,
   "metadata": {},
   "outputs": [
    {
     "data": {
      "text/plain": [
       "0.9691426459719142"
      ]
     },
     "execution_count": 170,
     "metadata": {},
     "output_type": "execute_result"
    }
   ],
   "source": [
    "accuracy_score(y_train,y_pred_RF_train)"
   ]
  },
  {
   "cell_type": "code",
   "execution_count": 171,
   "metadata": {},
   "outputs": [
    {
     "data": {
      "text/plain": [
       "0.9076809453471196"
      ]
     },
     "execution_count": 171,
     "metadata": {},
     "output_type": "execute_result"
    }
   ],
   "source": [
    "accuracy_score(y_test,y_pred_RF)"
   ]
  },
  {
   "cell_type": "code",
   "execution_count": 172,
   "metadata": {},
   "outputs": [
    {
     "data": {
      "text/plain": [
       "0.9169184290030211"
      ]
     },
     "execution_count": 172,
     "metadata": {},
     "output_type": "execute_result"
    }
   ],
   "source": [
    "precision_score(y_test,y_pred_RF)"
   ]
  },
  {
   "cell_type": "code",
   "execution_count": 173,
   "metadata": {},
   "outputs": [
    {
     "data": {
      "text/plain": [
       "0.896602658788774"
      ]
     },
     "execution_count": 173,
     "metadata": {},
     "output_type": "execute_result"
    }
   ],
   "source": [
    "from sklearn.metrics import recall_score\n",
    "recall_score(y_test,y_pred_RF)"
   ]
  },
  {
   "cell_type": "code",
   "execution_count": 176,
   "metadata": {},
   "outputs": [
    {
     "data": {
      "text/plain": [
       "0.9066467513069455"
      ]
     },
     "execution_count": 176,
     "metadata": {},
     "output_type": "execute_result"
    }
   ],
   "source": [
    "f1_score(y_test,y_pred_RF)"
   ]
  },
  {
   "cell_type": "code",
   "execution_count": 177,
   "metadata": {},
   "outputs": [
    {
     "data": {
      "text/plain": [
       "['RF_Model.joblib']"
      ]
     },
     "execution_count": 177,
     "metadata": {},
     "output_type": "execute_result"
    }
   ],
   "source": [
    "from joblib import dump, load\n",
    "dump(final_RF, 'RF_Model.joblib') "
   ]
  }
 ],
 "metadata": {
  "kernelspec": {
   "display_name": "Python 3",
   "language": "python",
   "name": "python3"
  },
  "language_info": {
   "codemirror_mode": {
    "name": "ipython",
    "version": 3
   },
   "file_extension": ".py",
   "mimetype": "text/x-python",
   "name": "python",
   "nbconvert_exporter": "python",
   "pygments_lexer": "ipython3",
   "version": "3.7.6"
  }
 },
 "nbformat": 4,
 "nbformat_minor": 2
}
